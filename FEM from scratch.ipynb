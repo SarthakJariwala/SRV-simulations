{
 "cells": [
  {
   "cell_type": "markdown",
   "metadata": {},
   "source": [
    "# Diffusion FEM from scratch"
   ]
  },
  {
   "cell_type": "code",
   "execution_count": 2,
   "metadata": {},
   "outputs": [],
   "source": [
    "import numpy as np\n",
    "import matplotlib.pyplot as plt"
   ]
  },
  {
   "cell_type": "code",
   "execution_count": 18,
   "metadata": {},
   "outputs": [
    {
     "data": {
      "image/png": "[encoded data removed]",
      "text/plain": [
       "<Figure size 432x288 with 1 Axes>"
      ]
     },
     "metadata": {
      "needs_background": "light"
     },
     "output_type": "display_data"
    }
   ],
   "source": [
    "nx = 41\n",
    "dx = 2 / (nx - 1)\n",
    "nt = 20    #the number of timesteps we want to calculate\n",
    "nu = 0.3   #the value of viscosity\n",
    "sigma = .2 #sigma is a parameter, we'll learn more about it later\n",
    "dt = sigma * dx**2 / nu #dt is defined using sigma ... more later!\n",
    "\n",
    "\n",
    "u = np.ones(nx)      #a numpy array with nx elements all equal to 1.\n",
    "u[int(.5 / dx):int(1 / dx + 1)] = 2  #setting u = 2 between 0.5 and 1 as per our I.C.s\n",
    "\n",
    "un = np.ones(nx) #our placeholder array, un, to advance the solution in time\n",
    "\n",
    "# Initial condition\n",
    "plt.plot(np.linspace(0, 2, nx), u);\n",
    "\n",
    "for n in range(nt):  #iterate through time\n",
    "    un = u.copy() ##copy the existing values of u into un\n",
    "    u[1:-1] = un[1:-1] + nu * dt / dx**2 * (un[2:] - 2 * un[1:-1] + un[:-2])\n",
    "        \n",
    "plt.plot(np.linspace(0, 2, nx), u);"
   ]
  },
  {
   "cell_type": "code",
   "execution_count": 79,
   "metadata": {},
   "outputs": [
    {
     "data": {
      "text/plain": [
       "[<matplotlib.lines.Line2D at 0x7fa65b6eda00>]"
      ]
     },
     "execution_count": 79,
     "metadata": {},
     "output_type": "execute_result"
    },
    {
     "data": {
      "image/png": "[encoded data removed]",
      "text/plain": [
       "<Figure size 432x288 with 1 Axes>"
      ]
     },
     "metadata": {
      "needs_background": "light"
     },
     "output_type": "display_data"
    }
   ],
   "source": [
    "nx = 500\n",
    "dx = 2 / (nx - 1)\n",
    "nt = 20    # the number of timesteps we want to calculate\n",
    "D = 0.9   # Diffusivity in cm2/s\n",
    "sigma = .2 # sigma is a parameter, we'll learn more about it later\n",
    "dt = sigma * dx**2 / D # dt is defined using sigma ... more later!\n",
    "\n",
    "S1 = 1e6 # SRV1 in cm/s\n",
    "S2 = 1e6 # SRV2 in cm/s\n",
    "tau_b = 8e-6 # bulk lifetime in seconds\n",
    "\n",
    "# x_ = np.linspace(0, 500e-7, nx)\n",
    "# N = (1e15 / 3) * np.exp(-x_ / 100e-7) # in carriers/cm3\n",
    "\n",
    "N = np.zeros((nx))\n",
    "N[0] = 1e15\n",
    "\n",
    "# initial condition\n",
    "plt.plot(x_, N)\n",
    "\n",
    "for t in range(nt):\n",
    "    un = N.copy() ##copy the existing values of u into un\n",
    "    N[1:-1] = un[1:-1] + D * dt / dx**2 * (un[2:] - 2 * un[1:-1] + un[:-2]) - un[1:-1] / tau_b\n",
    "    \n",
    "    N[0] = (S1 / D) * un[0]\n",
    "    N[-1] = -(S2 / D) * un[-1]\n",
    "\n",
    "plt.plot(x_, N)"
   ]
  },
  {
   "cell_type": "code",
   "execution_count": 71,
   "metadata": {},
   "outputs": [
    {
     "data": {
      "text/plain": [
       "499.9998750000209"
      ]
     },
     "execution_count": 71,
     "metadata": {},
     "output_type": "execute_result"
    }
   ],
   "source": [
    "N = 1 * np.exp(-x_ / 100) # in carriers/cm3\n",
    "N.sum()"
   ]
  },
  {
   "cell_type": "code",
   "execution_count": null,
   "metadata": {},
   "outputs": [],
   "source": []
  }
 ],
 "metadata": {
  "kernelspec": {
   "display_name": "Python [conda env:root] *",
   "language": "python",
   "name": "conda-root-py"
  },
  "language_info": {
   "codemirror_mode": {
    "name": "ipython",
    "version": 3
   },
   "file_extension": ".py",
   "mimetype": "text/x-python",
   "name": "python",
   "nbconvert_exporter": "python",
   "pygments_lexer": "ipython3",
   "version": "3.8.3"
  }
 },
 "nbformat": 4,
 "nbformat_minor": 4
}
