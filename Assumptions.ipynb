{
 "cells": [
  {
   "cell_type": "markdown",
   "metadata": {},
   "source": [
    "# Assumptions in SRV equation and methods for validating them"
   ]
  },
  {
   "cell_type": "markdown",
   "metadata": {},
   "source": [
    "$$ PL = k_2 * (np - n_i^2) $$\n",
    "\n",
    "$$ n = n_o + \\Delta n $$\n",
    "$$ p = p_o + \\Delta n $$\n",
    "\n",
    "$$ PL = k_2 * [[(n_o + \\Delta n) * (p_o + \\Delta n)] - n_i^2] $$\n",
    "\n",
    "$n_o , p_o$ - Equilibrium carrier concentration\n",
    "\n",
    "$\\Delta n$ - Excess carrier concentration\n",
    "\n",
    "$n_i$ - Intrinsic carrier concentration\n",
    "\n",
    "---"
   ]
  },
  {
   "cell_type": "markdown",
   "metadata": {},
   "source": [
    "## 1. Excess carrier concentration at the surface ($\\Delta n_{surface}$) < doping concentration ($p_o$)\n",
    "\n",
    "$$ PL = k_2 * [[(n_o + \\Delta n) * (p_o + \\Delta n)] - n_i^2] $$\n",
    "\n",
    "- ### Low level injection : _Always satisfied_\n",
    "\n",
    "$$\\Delta n < p_o $$\n",
    "\n",
    "$$ PL = k_2 * \\Delta n * p_o $$\n",
    "\n",
    "$$ PL = k^* * \\Delta n \\\\ k^* = k_2 * p_o  $$\n",
    "\n",
    "- ### High level injection : _Only under certain conditions_\n",
    "\n",
    "$$\\Delta n > p_o $$\n",
    "\n",
    "$$ PL = k_2 * \\Delta n * \\Delta n $$\n",
    "\n",
    "- If surface recombination high _enough_ such that the excess minority carrier density decreases and satisfies the criteria\n",
    "- The incident intensity until which this criteria remains true will depend on the surface recombination and doping concentration\n",
    "\n",
    "---"
   ]
  },
  {
   "cell_type": "markdown",
   "metadata": {},
   "source": [
    "## What injection regime are we in?\n",
    "\n",
    "### **Low level injection**\n",
    "\n",
    "Doping concentration in typical Pb based halide perovskites is ~$10^{15}$-$10^{16}$ cm$^{-3}$\n",
    "\n",
    "Refs - [10.1103/PhysRevApplied.6.044017](https://journals.aps.org/prapplied/abstract/10.1103/PhysRevApplied.6.044017), https://aip.scitation.org/doi/10.1063/1.4899051\n",
    "\n",
    "In our typical PL experiments with fluences ranging from 50-100 nJ/cm$^2$, the excess charge carrier density is ~$10^{15}$ cm$^{-3}$ or less -- which is less than typical doping concentrations\n",
    "\n",
    "---"
   ]
  },
  {
   "cell_type": "markdown",
   "metadata": {},
   "source": [
    "### Are there any other self-cosistent methods to back our doping concentration calculations in the literature?\n",
    "\n",
    "- TRPL as a function of fluence\n",
    "\n",
    "---"
   ]
  },
  {
   "cell_type": "markdown",
   "metadata": {},
   "source": [
    "## 2. Bulk defect density is sufficiently low\n",
    "\n",
    "_\"Sufficient\"_ - the excess charge carrier concentration at the surface will always be lower than the bulk (due to surface recombination)\n",
    "\n",
    "\n",
    "We have seen and [reported](https://www.nature.com/articles/s41566-018-0154-z) internal PLQE > 90 % by _**only**_ surface passivating the films. So, the bulk defect density _**must**_ be low.\n",
    "\n",
    "---"
   ]
  },
  {
   "cell_type": "markdown",
   "metadata": {},
   "source": [
    "## 3. Surface recombination velocity is the same for electrons and holes \n",
    "\n",
    "$$ S_n = S_p = S  $$\n",
    "\n",
    "---"
   ]
  },
  {
   "cell_type": "markdown",
   "metadata": {},
   "source": [
    "## 4. Carrier diffusion length > sample thickness\n",
    "\n",
    "Carrier diffusion length - 1-3 $\\mu m$\n",
    "\n",
    "Sample thickness - 400 nm\n",
    "\n",
    "---"
   ]
  },
  {
   "cell_type": "code",
   "execution_count": null,
   "metadata": {},
   "outputs": [],
   "source": []
  }
 ],
 "metadata": {
  "kernelspec": {
   "display_name": "Python 3",
   "language": "python",
   "name": "python3"
  },
  "language_info": {
   "codemirror_mode": {
    "name": "ipython",
    "version": 3
   },
   "file_extension": ".py",
   "mimetype": "text/x-python",
   "name": "python",
   "nbconvert_exporter": "python",
   "pygments_lexer": "ipython3",
   "version": "3.8.3"
  }
 },
 "nbformat": 4,
 "nbformat_minor": 4
}
