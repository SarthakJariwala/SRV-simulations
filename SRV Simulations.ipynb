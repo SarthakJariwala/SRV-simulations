{
 "cells": [
  {
   "cell_type": "code",
   "execution_count": 1,
   "metadata": {},
   "outputs": [],
   "source": [
    "import numpy as np\n",
    "from devito import Grid, TimeFunction, Eq, solve, Operator, Constant\n",
    "from sympy import nsimplify, symbols\n",
    "\n",
    "# Viz\n",
    "import matplotlib.pyplot as plt\n",
    "%matplotlib inline"
   ]
  },
  {
   "cell_type": "code",
   "execution_count": 2,
   "metadata": {},
   "outputs": [],
   "source": [
    "# initialize the grid\n",
    "grid = Grid(shape=(100,), extent=(500e-9,)) # extent is in m"
   ]
  },
  {
   "cell_type": "code",
   "execution_count": 3,
   "metadata": {},
   "outputs": [
    {
     "data": {
      "text/plain": [
       "(x,)"
      ]
     },
     "execution_count": 3,
     "metadata": {},
     "output_type": "execute_result"
    }
   ],
   "source": [
    "grid.dimensions"
   ]
  },
  {
   "cell_type": "code",
   "execution_count": 4,
   "metadata": {},
   "outputs": [
    {
     "data": {
      "text/latex": [
       "$\\displaystyle n{\\left(t,x \\right)}$"
      ],
      "text/plain": [
       "n(t, x)"
      ]
     },
     "execution_count": 4,
     "metadata": {},
     "output_type": "execute_result"
    }
   ],
   "source": [
    "# carrier density is a function of time and space\n",
    "n = TimeFunction(name=\"n\", grid=grid, space_order=2)\n",
    "n"
   ]
  },
  {
   "cell_type": "code",
   "execution_count": 5,
   "metadata": {},
   "outputs": [
    {
     "data": {
      "text/latex": [
       "$\\displaystyle \\frac{\\partial}{\\partial t} n{\\left(t,x \\right)}$"
      ],
      "text/plain": [
       "Derivative(n(t, x), t)"
      ]
     },
     "execution_count": 5,
     "metadata": {},
     "output_type": "execute_result"
    }
   ],
   "source": [
    "n.dt"
   ]
  },
  {
   "cell_type": "code",
   "execution_count": 6,
   "metadata": {},
   "outputs": [
    {
     "data": {
      "text/latex": [
       "$\\displaystyle \\frac{\\partial^{2}}{\\partial x^{2}} n{\\left(t,x \\right)}$"
      ],
      "text/plain": [
       "Derivative(n(t, x), (x, 2))"
      ]
     },
     "execution_count": 6,
     "metadata": {},
     "output_type": "execute_result"
    }
   ],
   "source": [
    "n.laplace"
   ]
  },
  {
   "cell_type": "code",
   "execution_count": 7,
   "metadata": {},
   "outputs": [
    {
     "data": {
      "text/latex": [
       "$\\displaystyle n{\\left(t + dt,x \\right)}$"
      ],
      "text/plain": [
       "n(t + dt, x)"
      ]
     },
     "execution_count": 7,
     "metadata": {},
     "output_type": "execute_result"
    }
   ],
   "source": [
    "n.forward"
   ]
  },
  {
   "cell_type": "code",
   "execution_count": 8,
   "metadata": {},
   "outputs": [],
   "source": [
    "# Create constants\n",
    "D = Constant(name=\"D\")\n",
    "S1 = Constant(name=\"S1\")\n",
    "S2 = Constant(name=\"S2\")\n",
    "tau_b = Constant(name=\"tau_b\")\n",
    "k1 = Constant(name=\"k1\")\n",
    "k2 = Constant(name=\"k2\")"
   ]
  },
  {
   "cell_type": "code",
   "execution_count": 9,
   "metadata": {},
   "outputs": [
    {
     "data": {
      "text/latex": [
       "$\\displaystyle \\frac{\\partial}{\\partial t} n{\\left(t,x \\right)} = D \\frac{\\partial^{2}}{\\partial x^{2}} n{\\left(t,x \\right)} - \\frac{n{\\left(t,x \\right)}}{\\tau_{b}}$"
      ],
      "text/plain": [
       "Eq(Derivative(n(t, x), t), D*Derivative(n(t, x), (x, 2)) - n(t, x)/tau_b)"
      ]
     },
     "execution_count": 9,
     "metadata": {},
     "output_type": "execute_result"
    }
   ],
   "source": [
    "# create the continuity equation\n",
    "# eq = Eq(n.dt, ((D * n.laplace) - (k1 * n) - (k2 * n**2)), subdomain=grid.interior)\n",
    "eq = Eq(n.dt, (D * n.laplace - n/tau_b), subdomain=grid.interior)\n",
    "eq"
   ]
  },
  {
   "cell_type": "code",
   "execution_count": 10,
   "metadata": {},
   "outputs": [
    {
     "data": {
      "text/latex": [
       "$\\displaystyle n{\\left(t + dt,x \\right)} = dt \\left(D \\left(- \\frac{2.0 n{\\left(t,x \\right)}}{h_{x}^{2}} + \\frac{n{\\left(t,x - h_{x} \\right)}}{h_{x}^{2}} + \\frac{n{\\left(t,x + h_{x} \\right)}}{h_{x}^{2}}\\right) - \\frac{n{\\left(t,x \\right)}}{\\tau_{b}} + \\frac{n{\\left(t,x \\right)}}{dt}\\right)$"
      ],
      "text/plain": [
       "Eq(n(t + dt, x), dt*(D*(-2.0*n(t, x)/h_x**2 + n(t, x - h_x)/h_x**2 + n(t, x + h_x)/h_x**2) - n(t, x)/tau_b + n(t, x)/dt))"
      ]
     },
     "execution_count": 10,
     "metadata": {},
     "output_type": "execute_result"
    }
   ],
   "source": [
    "# create the stencil\n",
    "stencil = solve(eq, n.forward) # solve for the next time step\n",
    "\n",
    "# create equation out of the stencil\n",
    "eq_stencil = Eq(n.forward, stencil, subdomain=grid.interior)\n",
    "\n",
    "eq_stencil"
   ]
  },
  {
   "cell_type": "code",
   "execution_count": 23,
   "metadata": {},
   "outputs": [],
   "source": [
    "# initial conditions - carrier density at t=0\n",
    "\n",
    "# TODO find a better/elegant way to incorporate the exponential decay condition\n",
    "x_ = np.linspace(0, grid.extent[0], grid.shape[0])\n",
    "\n",
    "n.data[0] = 1e7 * np.exp(-x_/100e-9) # in carriers/m3"
   ]
  },
  {
   "cell_type": "code",
   "execution_count": 24,
   "metadata": {},
   "outputs": [],
   "source": [
    "# Create boundary conditions\n",
    "\n",
    "x, = grid.dimensions\n",
    "t = grid.stepping_dim\n",
    "\n",
    "bc = [ Eq(n[t+1, 0], (S1 / D) * n[t+1, 0] ) ] # left\n",
    "bc += [ Eq(n[t+1, -1], -(S2 / D) * n[t+1, -1] ) ] # right"
   ]
  },
  {
   "cell_type": "code",
   "execution_count": 25,
   "metadata": {},
   "outputs": [],
   "source": [
    "# Variable declarations\n",
    "\n",
    "nt = 1 # time steps\n",
    "\n",
    "dt = 1e-9 # size of the steps in s"
   ]
  },
  {
   "cell_type": "code",
   "execution_count": 33,
   "metadata": {},
   "outputs": [
    {
     "name": "stderr",
     "output_type": "stream",
     "text": [
      "Operator `Kernel` run in 0.01 s\n"
     ]
    },
    {
     "data": {
      "text/plain": [
       "PerformanceSummary([(PerfKey(name='section0', rank=None),\n",
       "                     PerfEntry(time=2e-06, gflopss=0.0, gpointss=0.0, oi=0.0, ops=0, itershapes=[]))])"
      ]
     },
     "execution_count": 33,
     "metadata": {},
     "output_type": "execute_result"
    }
   ],
   "source": [
    "# Create operator - create JIT-compiled and run C code\n",
    "\n",
    "op = Operator([eq_stencil] + bc)\n",
    "\n",
    "op(time=nt, dt=dt, D=0.9e-4, k1=1e7 * 1e-6, k2=1e-11 * 1e-12, S1=1e3 * 1e-2, S2=1e3 * 1e-2)\n",
    "# op(time=nt, dt=dt, D=0.9e-4, S1=1e3 * 1e-2, S2=1e3 * 1e-2, tau_b=8e-6)"
   ]
  },
  {
   "cell_type": "code",
   "execution_count": 34,
   "metadata": {},
   "outputs": [
    {
     "data": {
      "text/plain": [
       "[<matplotlib.lines.Line2D at 0x7fb764f4fb10>]"
      ]
     },
     "execution_count": 34,
     "metadata": {},
     "output_type": "execute_result"
    },
    {
     "data": {
      "image/png": "[encoded data removed]",
      "text/plain": [
       "<Figure size 432x288 with 1 Axes>"
      ]
     },
     "metadata": {
      "needs_background": "light"
     },
     "output_type": "display_data"
    }
   ],
   "source": [
    "plt.plot(n.data[0])\n",
    "# plt.yscale(\"log\")"
   ]
  },
  {
   "cell_type": "code",
   "execution_count": 30,
   "metadata": {
    "scrolled": true
   },
   "outputs": [
    {
     "data": {
      "text/plain": [
       "Data([[ 1.23456791e+17, -2.49528017e+22,  2.89795309e+22,\n",
       "       -1.98988780e+22,  9.63689818e+21, -3.65978409e+21,\n",
       "        1.17595636e+21, -3.29147760e+20,  8.15761454e+19,\n",
       "       -1.81184002e+19,  3.63522898e+18, -6.60536627e+17,\n",
       "        1.06238335e+17, -1.42004225e+16,  8.52230980e+15,\n",
       "       -2.03902627e+16,  3.15995819e+16, -3.47813302e+16,\n",
       "        2.98867984e+16, -2.22417802e+16,  1.75179465e+16,\n",
       "       -1.64693162e+16,  1.57151039e+16, -1.33375904e+16,\n",
       "        1.06830440e+16, -8.72414964e+15,  6.27925668e+15,\n",
       "       -2.04979005e+15, -4.02640460e+15,  1.02740922e+16,\n",
       "       -1.31853112e+16,  1.05462922e+16, -4.60388228e+15,\n",
       "       -4.99966607e+14,  3.20800207e+15, -4.37854011e+15,\n",
       "        4.63586851e+15, -3.96450070e+15,  2.83438314e+15,\n",
       "       -2.43086854e+15,  3.58280293e+15, -5.50397428e+15,\n",
       "        6.51022768e+15, -6.16632964e+15,  5.35962526e+15,\n",
       "       -4.78067495e+15,  4.76780347e+15, -5.51311129e+15,\n",
       "        6.50510646e+15, -6.93941141e+15,  6.77161294e+15,\n",
       "       -6.35752280e+15,  5.59836532e+15, -4.19112036e+15,\n",
       "        2.09075921e+15,  2.65627269e+14, -1.86975590e+15,\n",
       "        2.10245776e+15, -1.66914079e+15,  1.65087873e+15,\n",
       "       -2.11443374e+15,  2.39370580e+15, -2.23349788e+15,\n",
       "        1.91567071e+15, -1.55286207e+15,  1.09354209e+15,\n",
       "       -7.93299116e+14,  8.08043067e+14, -6.45074292e+14,\n",
       "       -1.79791576e+14,  1.32351578e+15, -2.03134223e+15,\n",
       "        2.02226670e+15, -1.65500498e+15,  1.43451787e+15,\n",
       "       -1.49468405e+15,  1.56902215e+15, -1.39865127e+15,\n",
       "        9.68734101e+14, -3.89414417e+14, -1.82625096e+14,\n",
       "        5.52028992e+14, -6.57540166e+14,  6.92525761e+14,\n",
       "       -8.58476721e+14,  1.08104468e+15, -1.22578206e+15,\n",
       "        1.69406731e+15, -4.92478345e+15,  2.30434487e+16,\n",
       "       -1.12218433e+17,  5.04138313e+17, -2.03449385e+18,\n",
       "        7.27135902e+18, -2.26387179e+19,  5.96324573e+19,\n",
       "       -1.23143024e+20,  1.79202258e+20, -1.54133692e+20,\n",
       "        6.73794688e+04],\n",
       "      [-0.00000000e+00,  1.46629043e+18, -1.44618173e+18,\n",
       "        7.63520185e+17, -2.72980356e+17,  8.02877134e+16,\n",
       "       -2.01183613e+16,  4.35536366e+15, -8.24322805e+14,\n",
       "        1.37274042e+14, -2.00557336e+13,  2.58422787e+12,\n",
       "       -9.96261806e+10, -2.55742525e+11, -1.12434078e+11,\n",
       "        8.74174939e+11, -1.45329881e+12,  1.58516419e+12,\n",
       "       -1.25209608e+12,  8.04919640e+11, -5.98409937e+11,\n",
       "        6.71782863e+11, -6.84105531e+11,  5.35914512e+11,\n",
       "       -3.93368961e+11,  3.66434910e+11, -2.90478031e+11,\n",
       "        1.25446930e+11,  1.44370975e+11, -4.78059528e+11,\n",
       "        6.71548768e+11, -4.96883073e+11,  1.47986203e+11,\n",
       "        8.30536663e+10, -1.49988803e+11,  1.90414488e+11,\n",
       "       -2.06687011e+11,  1.73699252e+11, -9.76078766e+10,\n",
       "        5.80723384e+10, -1.18961275e+11,  2.50342015e+11,\n",
       "       -2.95528137e+11,  2.51672265e+11, -2.07675228e+11,\n",
       "        1.83856284e+11, -1.69313354e+11,  2.13888664e+11,\n",
       "       -2.77696512e+11,  2.93443600e+11, -2.70008009e+11,\n",
       "        2.61980766e+11, -2.38374371e+11,  1.82874407e+11,\n",
       "       -9.34462341e+10, -2.57632338e+10,  1.12647864e+11,\n",
       "       -9.88586066e+10,  5.13756611e+10, -5.15801334e+10,\n",
       "        9.26906778e+10, -1.08215140e+11,  9.04746107e+10,\n",
       "       -7.52001024e+10,  6.81789153e+10, -4.04374241e+10,\n",
       "        2.02151117e+10, -3.52885678e+10,  4.55187661e+10,\n",
       "       -1.05807270e+09, -6.48749588e+10,  9.93255506e+10,\n",
       "       -8.84692009e+10,  6.13191680e+10, -4.90720010e+10,\n",
       "        6.02924564e+10, -6.93000274e+10,  6.15463895e+10,\n",
       "       -4.15403868e+10,  1.62985544e+10,  1.20839219e+10,\n",
       "       -2.89546015e+10,  2.81509765e+10, -2.27874836e+10,\n",
       "        3.27161201e+10, -4.75116667e+10,  4.90247004e+10,\n",
       "       -4.27873403e+10,  5.10674207e+10, -1.49369061e+11,\n",
       "        8.57666748e+11, -5.08806772e+12,  2.68979394e+13,\n",
       "       -1.24301907e+14,  4.96329575e+14, -1.68871994e+15,\n",
       "        4.72619758e+15, -8.95274873e+15,  9.04504651e+15,\n",
       "        0.00000000e+00]], dtype=float32)"
      ]
     },
     "execution_count": 30,
     "metadata": {},
     "output_type": "execute_result"
    }
   ],
   "source": [
    "n.data"
   ]
  },
  {
   "cell_type": "code",
   "execution_count": 22,
   "metadata": {},
   "outputs": [
    {
     "data": {
      "text/plain": [
       "[Eq(n[t + 1, 0], S1*n[t + 1, 0]/D), Eq(n[t + 1, x - 1], -S2*n[t + 1, x - 1]/D)]"
      ]
     },
     "execution_count": 22,
     "metadata": {},
     "output_type": "execute_result"
    }
   ],
   "source": [
    "bc"
   ]
  },
  {
   "cell_type": "code",
   "execution_count": null,
   "metadata": {},
   "outputs": [],
   "source": []
  }
 ],
 "metadata": {
  "kernelspec": {
   "display_name": "Python [conda env:srv-sim]",
   "language": "python",
   "name": "conda-env-srv-sim-py"
  },
  "language_info": {
   "codemirror_mode": {
    "name": "ipython",
    "version": 3
   },
   "file_extension": ".py",
   "mimetype": "text/x-python",
   "name": "python",
   "nbconvert_exporter": "python",
   "pygments_lexer": "ipython3",
   "version": "3.7.9"
  }
 },
 "nbformat": 4,
 "nbformat_minor": 4
}
