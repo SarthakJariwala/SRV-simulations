{
 "cells": [
  {
   "cell_type": "code",
   "execution_count": 1,
   "metadata": {},
   "outputs": [],
   "source": [
    "import numpy as np\n",
    "from devito import Grid, TimeFunction, Eq, solve, Operator, Constant\n",
    "from sympy import nsimplify, symbols\n",
    "\n",
    "# Viz\n",
    "import matplotlib.pyplot as plt\n",
    "%matplotlib inline"
   ]
  },
  {
   "cell_type": "code",
   "execution_count": 62,
   "metadata": {},
   "outputs": [],
   "source": [
    "# initialize the grid\n",
    "grid = Grid(shape=(100,), extent=(500e-9,)) # extent is in m"
   ]
  },
  {
   "cell_type": "code",
   "execution_count": 63,
   "metadata": {},
   "outputs": [
    {
     "data": {
      "text/plain": [
       "(x,)"
      ]
     },
     "execution_count": 63,
     "metadata": {},
     "output_type": "execute_result"
    }
   ],
   "source": [
    "grid.dimensions"
   ]
  },
  {
   "cell_type": "code",
   "execution_count": 64,
   "metadata": {},
   "outputs": [
    {
     "data": {
      "text/latex": [
       "$\\displaystyle n{\\left(t,x \\right)}$"
      ],
      "text/plain": [
       "n(t, x)"
      ]
     },
     "execution_count": 64,
     "metadata": {},
     "output_type": "execute_result"
    }
   ],
   "source": [
    "# carrier density is a function of time and space\n",
    "n = TimeFunction(name=\"n\", grid=grid, space_order=2)\n",
    "n"
   ]
  },
  {
   "cell_type": "code",
   "execution_count": 65,
   "metadata": {},
   "outputs": [
    {
     "data": {
      "text/latex": [
       "$\\displaystyle \\frac{\\partial}{\\partial t} n{\\left(t,x \\right)}$"
      ],
      "text/plain": [
       "Derivative(n(t, x), t)"
      ]
     },
     "execution_count": 65,
     "metadata": {},
     "output_type": "execute_result"
    }
   ],
   "source": [
    "n.dt"
   ]
  },
  {
   "cell_type": "code",
   "execution_count": 66,
   "metadata": {},
   "outputs": [
    {
     "data": {
      "text/latex": [
       "$\\displaystyle \\frac{\\partial^{2}}{\\partial x^{2}} n{\\left(t,x \\right)}$"
      ],
      "text/plain": [
       "Derivative(n(t, x), (x, 2))"
      ]
     },
     "execution_count": 66,
     "metadata": {},
     "output_type": "execute_result"
    }
   ],
   "source": [
    "n.laplace"
   ]
  },
  {
   "cell_type": "code",
   "execution_count": 67,
   "metadata": {},
   "outputs": [
    {
     "data": {
      "text/latex": [
       "$\\displaystyle n{\\left(t + dt,x \\right)}$"
      ],
      "text/plain": [
       "n(t + dt, x)"
      ]
     },
     "execution_count": 67,
     "metadata": {},
     "output_type": "execute_result"
    }
   ],
   "source": [
    "n.forward"
   ]
  },
  {
   "cell_type": "code",
   "execution_count": 68,
   "metadata": {},
   "outputs": [],
   "source": [
    "# Create constants\n",
    "D = Constant(name=\"D\")\n",
    "S1 = Constant(name=\"S1\")\n",
    "S2 = Constant(name=\"S2\")\n",
    "tau_b = Constant(name=\"tau_b\")\n",
    "k1 = Constant(name=\"k1\")\n",
    "k2 = Constant(name=\"k2\")"
   ]
  },
  {
   "cell_type": "code",
   "execution_count": 149,
   "metadata": {},
   "outputs": [
    {
     "data": {
      "text/latex": [
       "$\\displaystyle \\frac{\\partial}{\\partial t} n{\\left(t,x \\right)} = D \\frac{\\partial^{2}}{\\partial x^{2}} n{\\left(t,x \\right)} - k_{1} n{\\left(t,x \\right)} - k_{2} n^{2}{\\left(t,x \\right)}$"
      ],
      "text/plain": [
       "Eq(Derivative(n(t, x), t), D*Derivative(n(t, x), (x, 2)) - k1*n(t, x) - k2*n(t, x)**2)"
      ]
     },
     "execution_count": 149,
     "metadata": {},
     "output_type": "execute_result"
    }
   ],
   "source": [
    "# create the continuity equation\n",
    "eq = Eq(n.dt, ((D * n.laplace) - (k1 * n) - (k2 * n**2)), subdomain=grid.interior)\n",
    "# eq = Eq(n.dt, (D * n.laplace - n/tau_b), subdomain=grid.interior)\n",
    "eq"
   ]
  },
  {
   "cell_type": "code",
   "execution_count": 150,
   "metadata": {},
   "outputs": [
    {
     "data": {
      "text/latex": [
       "$\\displaystyle n{\\left(t + dt,x \\right)} = dt \\left(D \\left(- \\frac{2.0 n{\\left(t,x \\right)}}{h_{x}^{2}} + \\frac{n{\\left(t,x - h_{x} \\right)}}{h_{x}^{2}} + \\frac{n{\\left(t,x + h_{x} \\right)}}{h_{x}^{2}}\\right) - k_{1} n{\\left(t,x \\right)} - k_{2} n^{2}{\\left(t,x \\right)} + \\frac{n{\\left(t,x \\right)}}{dt}\\right)$"
      ],
      "text/plain": [
       "Eq(n(t + dt, x), dt*(D*(-2.0*n(t, x)/h_x**2 + n(t, x - h_x)/h_x**2 + n(t, x + h_x)/h_x**2) - k1*n(t, x) - k2*n(t, x)**2 + n(t, x)/dt))"
      ]
     },
     "execution_count": 150,
     "metadata": {},
     "output_type": "execute_result"
    }
   ],
   "source": [
    "# create the stencil\n",
    "stencil = solve(eq, n.forward) # solve for the next time step\n",
    "\n",
    "# create equation out of the stencil\n",
    "eq_stencil = Eq(n.forward, stencil, subdomain=grid.interior)\n",
    "\n",
    "eq_stencil"
   ]
  },
  {
   "cell_type": "code",
   "execution_count": 151,
   "metadata": {},
   "outputs": [],
   "source": [
    "# initial conditions - carrier density at t=0\n",
    "\n",
    "# TODO find a better/elegant way to incorporate the exponential decay condition\n",
    "x_ = np.linspace(0, grid.extent[0], grid.shape[0])\n",
    "\n",
    "n.data[0] = 1e7 * np.exp(-x_/100e-9) # in carriers/m3"
   ]
  },
  {
   "cell_type": "code",
   "execution_count": 152,
   "metadata": {},
   "outputs": [],
   "source": [
    "# Create boundary conditions\n",
    "\n",
    "x, = grid.dimensions\n",
    "t = grid.stepping_dim\n",
    "\n",
    "bc = [ Eq(n[t+1, 0], (S1 / D) * n[t+1, 0] ) ] # left\n",
    "bc += [ Eq(n[t+1, x-1], -(S2 / D) * n[t+1, x-1] ) ] # right"
   ]
  },
  {
   "cell_type": "code",
   "execution_count": 142,
   "metadata": {},
   "outputs": [],
   "source": [
    "# Variable declarations\n",
    "\n",
    "nt = 3 # time steps\n",
    "\n",
    "dt = 1e-9 # size of the steps in s"
   ]
  },
  {
   "cell_type": "code",
   "execution_count": 154,
   "metadata": {},
   "outputs": [
    {
     "name": "stderr",
     "output_type": "stream",
     "text": [
      "Operator `Kernel` run in 0.01 s\n"
     ]
    },
    {
     "data": {
      "text/plain": [
       "PerformanceSummary([(PerfKey(name='section0', rank=None),\n",
       "                     PerfEntry(time=2e-06, gflopss=0.0, gpointss=0.0, oi=0.0, ops=0, itershapes=[])),\n",
       "                    (PerfKey(name='section1', rank=None),\n",
       "                     PerfEntry(time=1e-06, gflopss=0.0, gpointss=0.0, oi=0.0, ops=0, itershapes=[]))])"
      ]
     },
     "execution_count": 154,
     "metadata": {},
     "output_type": "execute_result"
    }
   ],
   "source": [
    "# Create operator - create JIT-compiled and run C code\n",
    "\n",
    "op = Operator([eq_stencil] + bc)\n",
    "\n",
    "op(time=nt, dt=dt, D=0.9e-4, k1=1e7 * 1e-6, k2=1e-11 * 1e-12, S1=1e3 * 1e-2, S2=1e3 * 1e-2)\n",
    "# op(time=nt, dt=dt, D=0.9e-4, S1=1e3 * 1e-2, S2=1e3 * 1e-2, tau_b=8e-6)"
   ]
  },
  {
   "cell_type": "code",
   "execution_count": 155,
   "metadata": {},
   "outputs": [
    {
     "data": {
      "text/plain": [
       "[<matplotlib.lines.Line2D at 0x7fe0e4ad5d90>]"
      ]
     },
     "execution_count": 155,
     "metadata": {},
     "output_type": "execute_result"
    },
    {
     "data": {
      "image/png": "[encoded data removed]",
      "text/plain": [
       "<Figure size 432x288 with 1 Axes>"
      ]
     },
     "metadata": {
      "needs_background": "light"
     },
     "output_type": "display_data"
    }
   ],
   "source": [
    "plt.plot(n.data[0])\n",
    "# plt.yscale(\"log\")"
   ]
  },
  {
   "cell_type": "code",
   "execution_count": 145,
   "metadata": {
    "scrolled": true
   },
   "outputs": [
    {
     "data": {
      "text/plain": [
       "Data([[            nan,             nan,             nan,\n",
       "                  -inf,            -inf,             inf,\n",
       "                  -inf,            -inf,             inf,\n",
       "                  -inf,             inf,            -inf,\n",
       "       -2.36411068e+34,             inf,            -inf,\n",
       "       -1.71175589e+34,             inf,            -inf,\n",
       "                   inf,            -inf,             inf,\n",
       "                  -inf,             inf,  1.78755806e+34,\n",
       "                  -inf,             inf,            -inf,\n",
       "        6.16569035e+33,  5.60238307e+33,  3.56879297e+34,\n",
       "                  -inf, -2.91587665e+34,             inf,\n",
       "                  -inf,  1.78802749e+34,  1.15734507e+34,\n",
       "       -8.59270089e+33,  3.21728980e+34,            -inf,\n",
       "                   inf,            -inf,             inf,\n",
       "       -7.54344519e+33,  1.34289928e+34,            -inf,\n",
       "                   inf,            -inf,  1.48242589e+34,\n",
       "                   inf,            -inf,             inf,\n",
       "                  -inf,             inf,            -inf,\n",
       "        3.41540625e+34, -2.44975707e+34,  1.77707209e+34,\n",
       "       -1.40383663e+34,  5.22316613e+33,  7.25616450e+33,\n",
       "       -1.38784480e+34,  1.09516928e+34, -4.33519515e+33,\n",
       "        3.61916258e+33, -1.02980685e+34,  1.62596727e+34,\n",
       "       -1.70474123e+34,  1.48446008e+34, -9.65438117e+33,\n",
       "       -3.31700656e+32,  1.21458816e+34, -1.87898773e+34,\n",
       "        1.73238641e+34, -1.32755328e+34,  1.36546433e+34,\n",
       "       -1.80954746e+34,  2.03180870e+34, -1.62497023e+34,\n",
       "        8.47860738e+33, -1.81712917e+33, -2.61743883e+33,\n",
       "        5.56563605e+33, -7.40249705e+33,  1.05287184e+34,\n",
       "       -1.66027863e+34,  2.19442055e+34, -2.23173453e+34,\n",
       "        1.88192796e+34, -1.47586555e+34,  1.08807056e+34,\n",
       "       -6.27133987e+33,  1.85038658e+33, -5.63358271e+32,\n",
       "        3.33171940e+33, -6.83619767e+33,  7.02082033e+33,\n",
       "                  -inf,             inf,            -inf,\n",
       "                  -inf],\n",
       "      [           -inf,            -inf,             inf,\n",
       "        5.98866906e+26, -6.95901502e+26,  4.49159845e+26,\n",
       "       -1.53156030e+26, -1.53459598e+26,  3.28426754e+26,\n",
       "       -4.23272017e+26,  3.58805295e+26, -1.82854236e+26,\n",
       "       -6.22433497e+25,  1.18687965e+26, -6.24430865e+25,\n",
       "       -1.63715638e+25,  7.33673820e+25, -1.67193891e+26,\n",
       "        1.64355435e+26, -1.37286130e+26,  1.34447563e+26,\n",
       "       -1.67033202e+26,  1.04078550e+26,  1.40467195e+25,\n",
       "       -1.21585405e+26,  1.19347870e+26, -6.12893441e+25,\n",
       "       -1.58107435e+25,  1.39451402e+25,  2.94067364e+25,\n",
       "       -4.61713473e+25, -2.31040950e+25,  7.43467243e+25,\n",
       "       -6.09380720e+25, -5.26719287e+23,  1.42764921e+25,\n",
       "       -4.45438609e+23,  6.75067419e+24, -6.81204732e+25,\n",
       "        1.04795547e+26, -8.33508199e+25,  2.22322327e+25,\n",
       "        3.21038256e+24,  3.42914077e+24, -3.06072090e+25,\n",
       "        4.86560637e+25, -4.94110198e+25,  1.09960200e+25,\n",
       "        3.35868170e+25, -6.43717627e+25,  6.37523580e+25,\n",
       "       -4.92952849e+25,  2.99650802e+25, -2.67573804e+25,\n",
       "        2.24887808e+25, -1.53902431e+25,  9.22252060e+24,\n",
       "       -1.14961712e+25,  3.59690007e+24,  5.36590940e+24,\n",
       "       -1.13753346e+25,  7.28723579e+24, -1.98740061e+24,\n",
       "       -2.03431991e+23, -7.65102115e+24,  1.11714600e+25,\n",
       "       -1.14837542e+25,  9.34814005e+24, -7.68762813e+24,\n",
       "       -9.52072581e+22,  8.34332918e+24, -1.42017298e+25,\n",
       "        1.11857021e+25, -7.61905813e+24,  7.44103725e+24,\n",
       "       -1.23306938e+25,  1.40582833e+25, -1.13832817e+25,\n",
       "        4.62747211e+24, -9.89978820e+23, -1.97208982e+24,\n",
       "        3.72281668e+24, -4.77993157e+24,  5.60066785e+24,\n",
       "       -1.08765496e+25,  1.49990384e+25, -1.51040269e+25,\n",
       "        1.17233786e+25, -9.45600162e+24,  7.01308777e+24,\n",
       "       -4.27387886e+24,  4.37049520e+23,  4.27962373e+23,\n",
       "        1.85574562e+24, -5.21541279e+24,  5.15240563e+24,\n",
       "       -2.38966573e+24,  1.14727568e+28, -2.29101336e+28,\n",
       "       -1.02948649e+23]], dtype=float32)"
      ]
     },
     "execution_count": 145,
     "metadata": {},
     "output_type": "execute_result"
    }
   ],
   "source": [
    "n.data"
   ]
  },
  {
   "cell_type": "code",
   "execution_count": 136,
   "metadata": {},
   "outputs": [
    {
     "data": {
      "text/plain": [
       "[Eq(n[t + 1, 0], S1*n[t, 0]/D), Eq(n[t + 1, x - 1], -S2*n[t, x - 1]/D)]"
      ]
     },
     "execution_count": 136,
     "metadata": {},
     "output_type": "execute_result"
    }
   ],
   "source": [
    "bc"
   ]
  },
  {
   "cell_type": "code",
   "execution_count": null,
   "metadata": {},
   "outputs": [],
   "source": []
  }
 ],
 "metadata": {
  "kernelspec": {
   "display_name": "Python [conda env:srv-sim]",
   "language": "python",
   "name": "conda-env-srv-sim-py"
  },
  "language_info": {
   "codemirror_mode": {
    "name": "ipython",
    "version": 3
   },
   "file_extension": ".py",
   "mimetype": "text/x-python",
   "name": "python",
   "nbconvert_exporter": "python",
   "pygments_lexer": "ipython3",
   "version": "3.7.9"
  }
 },
 "nbformat": 4,
 "nbformat_minor": 4
}
