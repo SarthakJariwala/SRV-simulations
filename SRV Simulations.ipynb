{
 "cells": [
  {
   "cell_type": "code",
   "execution_count": 1,
   "metadata": {},
   "outputs": [],
   "source": [
    "import numpy as np\n",
    "from devito import Grid, TimeFunction, Eq, solve, Operator, Constant\n",
    "from sympy import nsimplify, symbols\n",
    "\n",
    "# Viz\n",
    "import matplotlib.pyplot as plt\n",
    "%matplotlib inline"
   ]
  },
  {
   "cell_type": "code",
   "execution_count": 2,
   "metadata": {},
   "outputs": [],
   "source": [
    "# initialize the grid\n",
    "grid = Grid(shape=(100,), extent=(500e-9,)) # extent is in m"
   ]
  },
  {
   "cell_type": "code",
   "execution_count": 3,
   "metadata": {},
   "outputs": [
    {
     "data": {
      "text/plain": [
       "(x,)"
      ]
     },
     "execution_count": 3,
     "metadata": {},
     "output_type": "execute_result"
    }
   ],
   "source": [
    "grid.dimensions"
   ]
  },
  {
   "cell_type": "code",
   "execution_count": 4,
   "metadata": {},
   "outputs": [
    {
     "data": {
      "text/latex": [
       "$\\displaystyle n{\\left(t,x \\right)}$"
      ],
      "text/plain": [
       "n(t, x)"
      ]
     },
     "execution_count": 4,
     "metadata": {},
     "output_type": "execute_result"
    }
   ],
   "source": [
    "# carrier density is a function of time and space\n",
    "n = TimeFunction(name=\"n\", grid=grid, space_order=2)\n",
    "n"
   ]
  },
  {
   "cell_type": "code",
   "execution_count": 5,
   "metadata": {},
   "outputs": [
    {
     "data": {
      "text/latex": [
       "$\\displaystyle \\frac{\\partial}{\\partial t} n{\\left(t,x \\right)}$"
      ],
      "text/plain": [
       "Derivative(n(t, x), t)"
      ]
     },
     "execution_count": 5,
     "metadata": {},
     "output_type": "execute_result"
    }
   ],
   "source": [
    "n.dt"
   ]
  },
  {
   "cell_type": "code",
   "execution_count": 6,
   "metadata": {},
   "outputs": [
    {
     "data": {
      "text/latex": [
       "$\\displaystyle \\frac{\\partial^{2}}{\\partial x^{2}} n{\\left(t,x \\right)}$"
      ],
      "text/plain": [
       "Derivative(n(t, x), (x, 2))"
      ]
     },
     "execution_count": 6,
     "metadata": {},
     "output_type": "execute_result"
    }
   ],
   "source": [
    "n.laplace"
   ]
  },
  {
   "cell_type": "code",
   "execution_count": 7,
   "metadata": {},
   "outputs": [
    {
     "data": {
      "text/latex": [
       "$\\displaystyle n{\\left(t + dt,x \\right)}$"
      ],
      "text/plain": [
       "n(t + dt, x)"
      ]
     },
     "execution_count": 7,
     "metadata": {},
     "output_type": "execute_result"
    }
   ],
   "source": [
    "n.forward"
   ]
  },
  {
   "cell_type": "code",
   "execution_count": 8,
   "metadata": {},
   "outputs": [],
   "source": [
    "# Create constants\n",
    "D = Constant(name=\"D\")\n",
    "k1 = Constant(name=\"k1\")\n",
    "k2 = Constant(name=\"k2\")"
   ]
  },
  {
   "cell_type": "code",
   "execution_count": 9,
   "metadata": {},
   "outputs": [
    {
     "data": {
      "text/latex": [
       "$\\displaystyle \\frac{\\partial}{\\partial t} n{\\left(t,x \\right)} = D \\frac{\\partial^{2}}{\\partial x^{2}} n{\\left(t,x \\right)} - k_{1} n{\\left(t,x \\right)} - k_{2} n^{2}{\\left(t,x \\right)}$"
      ],
      "text/plain": [
       "Eq(Derivative(n(t, x), t), D*Derivative(n(t, x), (x, 2)) - k1*n(t, x) - k2*n(t, x)**2)"
      ]
     },
     "execution_count": 9,
     "metadata": {},
     "output_type": "execute_result"
    }
   ],
   "source": [
    "# create the continuity equation\n",
    "eq = Eq(n.dt, ((D * n.laplace) - (k1 * n) - (k2 * n**2)), subdomain=grid.interior)\n",
    "eq"
   ]
  },
  {
   "cell_type": "code",
   "execution_count": 10,
   "metadata": {},
   "outputs": [
    {
     "data": {
      "text/latex": [
       "$\\displaystyle n{\\left(t + dt,x \\right)} = dt \\left(D \\left(- \\frac{2.0 n{\\left(t,x \\right)}}{h_{x}^{2}} + \\frac{n{\\left(t,x - h_{x} \\right)}}{h_{x}^{2}} + \\frac{n{\\left(t,x + h_{x} \\right)}}{h_{x}^{2}}\\right) - k_{1} n{\\left(t,x \\right)} - k_{2} n^{2}{\\left(t,x \\right)} + \\frac{n{\\left(t,x \\right)}}{dt}\\right)$"
      ],
      "text/plain": [
       "Eq(n(t + dt, x), dt*(D*(-2.0*n(t, x)/h_x**2 + n(t, x - h_x)/h_x**2 + n(t, x + h_x)/h_x**2) - k1*n(t, x) - k2*n(t, x)**2 + n(t, x)/dt))"
      ]
     },
     "execution_count": 10,
     "metadata": {},
     "output_type": "execute_result"
    }
   ],
   "source": [
    "# create the stencil\n",
    "stencil = solve(eq, n.forward) # solve for the next time step\n",
    "\n",
    "# create equation out of the stencil\n",
    "eq_stencil = Eq(n.forward, stencil)\n",
    "\n",
    "eq_stencil"
   ]
  },
  {
   "cell_type": "code",
   "execution_count": 11,
   "metadata": {},
   "outputs": [],
   "source": [
    "# initial conditions - carrier density at t=0\n",
    "\n",
    "# TODO find a better/elegant way to incorporate the exponential decay condition\n",
    "x = np.linspace(0, grid.extent[0], grid.shape[0])\n",
    "\n",
    "n.data[0] = 1e15 * np.exp(-x/10e-9)"
   ]
  },
  {
   "cell_type": "code",
   "execution_count": 12,
   "metadata": {},
   "outputs": [
    {
     "data": {
      "text/plain": [
       "[<matplotlib.lines.Line2D at 0x7fe8cebb7c10>]"
      ]
     },
     "execution_count": 12,
     "metadata": {},
     "output_type": "execute_result"
    },
    {
     "data": {
      "image/png": "[encoded data removed]",
      "text/plain": [
       "<Figure size 432x288 with 1 Axes>"
      ]
     },
     "metadata": {
      "needs_background": "light"
     },
     "output_type": "display_data"
    }
   ],
   "source": [
    "plt.plot(n.data[0])"
   ]
  },
  {
   "cell_type": "code",
   "execution_count": 13,
   "metadata": {},
   "outputs": [],
   "source": [
    "# Create boundary conditions\n",
    "\n",
    "x, = grid.dimensions\n",
    "t = grid.stepping_dim\n",
    "\n",
    "bc = [ Eq(n[t+1, 0], 1e15) ] # left"
   ]
  },
  {
   "cell_type": "code",
   "execution_count": 14,
   "metadata": {},
   "outputs": [],
   "source": [
    "# Variable declarations\n",
    "\n",
    "nt = 1000 # time steps\n",
    "\n",
    "dt = 1e-9 # size of the steps in s"
   ]
  },
  {
   "cell_type": "code",
   "execution_count": 15,
   "metadata": {},
   "outputs": [
    {
     "name": "stderr",
     "output_type": "stream",
     "text": [
      "Operator `Kernel` run in 0.01 s\n"
     ]
    },
    {
     "data": {
      "text/plain": [
       "PerformanceSummary([(PerfKey(name='section0', rank=None),\n",
       "                     PerfEntry(time=9.099999999999984e-05, gflopss=0.0, gpointss=0.0, oi=0.0, ops=0, itershapes=[]))])"
      ]
     },
     "execution_count": 15,
     "metadata": {},
     "output_type": "execute_result"
    }
   ],
   "source": [
    "# Create operator - create JIT-compiled and run C code\n",
    "\n",
    "op = Operator([eq_stencil] + bc)\n",
    "\n",
    "op(time=nt, dt=dt, D=0.9e-8, k1=1e7 * 1e-6, k2=1e-11 * 1e-12)"
   ]
  },
  {
   "cell_type": "code",
   "execution_count": 16,
   "metadata": {},
   "outputs": [
    {
     "data": {
      "text/plain": [
       "[<matplotlib.lines.Line2D at 0x7fe8cf5629d0>]"
      ]
     },
     "execution_count": 16,
     "metadata": {},
     "output_type": "execute_result"
    },
    {
     "data": {
      "image/png": "[encoded data removed]",
      "text/plain": [
       "<Figure size 432x288 with 1 Axes>"
      ]
     },
     "metadata": {
      "needs_background": "light"
     },
     "output_type": "display_data"
    }
   ],
   "source": [
    "plt.plot(n.data[0])"
   ]
  },
  {
   "cell_type": "code",
   "execution_count": null,
   "metadata": {},
   "outputs": [],
   "source": []
  }
 ],
 "metadata": {
  "kernelspec": {
   "display_name": "Python [conda env:srv-sim]",
   "language": "python",
   "name": "conda-env-srv-sim-py"
  },
  "language_info": {
   "codemirror_mode": {
    "name": "ipython",
    "version": 3
   },
   "file_extension": ".py",
   "mimetype": "text/x-python",
   "name": "python",
   "nbconvert_exporter": "python",
   "pygments_lexer": "ipython3",
   "version": "3.7.9"
  }
 },
 "nbformat": 4,
 "nbformat_minor": 4
}
